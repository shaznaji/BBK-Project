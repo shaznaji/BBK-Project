{
 "cells": [
  {
   "cell_type": "code",
   "execution_count": 13,
   "id": "6154d0ba",
   "metadata": {},
   "outputs": [],
   "source": [
    "import pandas as pd\n",
    "from sklearn.preprocessing import StandardScaler\n",
    "from sklearn.model_selection import train_test_split\n",
    "from sklearn.svm import SVC\n",
    "from sklearn.metrics import accuracy_score, classification_report,confusion_matrix, ConfusionMatrixDisplay\n",
    "from sklearn.model_selection import GridSearchCV, StratifiedKFold,cross_val_score\n",
    "from imblearn.over_sampling import SMOTE\n",
    "from sklearn.metrics import f1_score\n",
    "from sklearn.metrics import precision_score\n",
    "from sklearn.metrics import recall_score\n",
    "import numpy as np\n",
    "import matplotlib.pyplot as plt"
   ]
  },
  {
   "cell_type": "code",
   "execution_count": 14,
   "id": "cdffafd2",
   "metadata": {},
   "outputs": [],
   "source": [
    "epl = pd.read_csv(\"Project_13803342/dataframed_cleaned/epl_data_matches_copy.csv\")"
   ]
  },
  {
   "cell_type": "code",
   "execution_count": 15,
   "id": "62c085f7",
   "metadata": {},
   "outputs": [],
   "source": [
    "# Creating lists of different features\n",
    "\n",
    "all_both = [\"xga\",\"xg\",\"sh_x\", \"sot_x\",\"dist_x\", \"fk_x\", \"pk_x\", \"pkatt_x\", \"sh_y\", \"sot_y\", \"dist_y\" ,\"fk_y\" ,\"pk_y\", \"pkatt_y\",\"poss\" ,\"poss_y\" ,\"succ%_x\" ,\"cpa_x\", \"succ%_y\", \"cpa_y\" ,\"kp\", \"1/3\" ,\"ppa\" ,\"crspa\" ,\"prog\", \"sca_x\", \"passlive_x\" ,\"to_x\" ,\"sca_y\" ,\"venue_code\" ,\"opp_code\", \"hour\", \"day_code\", \"referee_code\" ,\"formation_code\", \"captain_code\", \"tkl_x\", \"tklw_x\", \"def 3rd_x\", \"tkl%_x\", \"blocks_x\", \"int_x\", \"err_x\", \"tkl_y\",  \"tklw_y\", \"def 3rd_y\", \"tkl%_y\", \"blocks_y\", \"int_y\", \"err_y\"\n",
    "]\n",
    "both_shooting = [\"sh_x\", \"sot_x\",\"dist_x\", \"fk_x\", \"pk_x\", \"pkatt_x\", \"sh_y\", \"sot_y\", \"dist_y\" ,\"fk_y\" ,\"pk_y\", \"pkatt_y\"]\n",
    "team_shooting = [\"sh_x\", \"sot_x\",\"dist_x\", \"fk_x\", \"pk_x\", \"pkatt_x\"]\n",
    "opp_shooting = [\"sh_y\", \"sot_y\", \"dist_y\" ,\"fk_y\" ,\"pk_y\", \"pkatt_y\"]\n",
    "both_possession = [\"poss_x\" ,\"poss_y\" ,\"succ%_x\" ,\"cpa_x\", \"succ%_y\", \"cpa_y\"]\n",
    "team_possession = [\"poss_x\",\"succ%_x\",\"cpa_x\",\"1/3\"]\n",
    "opp_possession = [\"poss_y\",\"succ%_y\",\"cpa_y\"]\n",
    "team_creation = [\"sca_x\", \"passlive_x\" ,\"to_x\"]\n",
    "both_def = [\"tkl_x\", \"tklw_x\", \"def 3rd_x\", \"tkl%_x\", \"blocks_x\", \"sh_x\", \"int_x\", \"err_x\", \"tkl_y\", \"tklw_y\", \"def 3rd_y\", \"tkl%_y\", \"blocks_y\", \"sh_y\", \"int_y\", \"err_y\"]\n",
    "team_def = [\"tkl_x\", \"tklw_x\", \"def 3rd_x\", \"tkl%_x\", \"blocks_x\", \"sh_x\", \"int_x\", \"err_x\"]\n",
    "opp_def = [\"tkl_y\", \"tklw_y\", \"def 3rd_y\", \"tkl%_y\", \"blocks_y\", \"sh_y\", \"int_y\", \"err_y\"]\n",
    "important = [ \"xga\", \"xg\",\"sot_x\", \"sot_y\", \"sh_x\", \"dist_x\", \"tkl%_x\", \"dist_y\", \"sh_y\", \"succ%_y\", \"tkl%_y\", \"poss_x\", \"succ%_x\", \"captain_code\", \"1/3\", \"opp_code\"]\n",
    "epl = epl.drop(columns = \"target\")\n",
    "\n",
    "f1 = all_both \n",
    "f2 = both_shooting\n",
    "f3 = team_shooting\n",
    "f4 = opp_shooting \n",
    "f5 = both_possession\n",
    "f6 = team_possession \n",
    "f7 = opp_possession \n",
    "f8 = team_creation\n",
    "f9 = both_def \n",
    "f10 = team_def \n",
    "f11 = opp_def"
   ]
  },
  {
   "cell_type": "code",
   "execution_count": 30,
   "id": "6945dd7f",
   "metadata": {
    "scrolled": true
   },
   "outputs": [],
   "source": [
    "import pandas as pd\n",
    "\n",
    "\n",
    "# Defining the columns to normalise\n",
    "columns_to_normalise = ['xga', 'xg', 'sh_x', 'sot_x', 'dist_x', 'fk_x', 'pk_x', 'pkatt_x', 'sh_y', 'sot_y', 'dist_y', 'fk_y', 'pk_y', 'pkatt_y', 'poss_x', 'poss_y', 'succ%_x', 'cpa_x', 'succ%_y', 'cpa_y', 'kp', '1/3', 'ppa', 'crspa', 'prog', 'sca_x', 'passlive_x', 'to_x', 'sca_y', 'venue_code', 'opp_code', 'hour', 'day_code', 'referee_code', 'formation_code', 'captain_code', 'tkl_x', 'tklw_x', 'def 3rd_x', 'tkl%_x', 'blocks_x','int_x', 'err_x', 'tkl_y', 'tklw_y', 'def 3rd_y', 'tkl%_y', 'blocks_y', 'int_y', 'err_y']\n",
    "\n",
    "# Creating a Min-max normalisation function\n",
    "def min_max_normalisation(column):\n",
    "    return (column - column.min()) / (column.max() - column.min())\n",
    "\n",
    "# Applying min-max normalisation to selected columns\n",
    "normalised_data = epl[columns_to_normalise].apply(min_max_normalisation)\n",
    "\n",
    "# Appending the normalised columns with the original dataframe\n",
    "epl_normalised = pd.concat([epl.drop(columns=columns_to_normalise), normalised_data], axis=1)\n"
   ]
  },
  {
   "cell_type": "code",
   "execution_count": 29,
   "id": "6d01012a",
   "metadata": {},
   "outputs": [],
   "source": [
    "from sklearn.preprocessing import StandardScaler\n",
    "\n",
    "# Standardising the features\n",
    "scaler = StandardScaler()\n",
    "x_scaled = scaler.fit_transform(epl[f1])\n",
    "epl_s = pd.DataFrame(x_scaled, index=epl.index, columns=all_both)"
   ]
  },
  {
   "cell_type": "code",
   "execution_count": 18,
   "id": "18eb47f7",
   "metadata": {},
   "outputs": [
    {
     "name": "stdout",
     "output_type": "stream",
     "text": [
      "Best Hyperparameters: {'C': 0.9767211400638387}\n",
      "Cross-Validation Results:\n",
      "[0.61413043 0.67934783 0.61413043 0.6576087  0.64673913 0.5923913\n",
      " 0.61202186 0.66120219 0.61748634 0.63934426]\n",
      "Mean Accuracy: 0.6334402470895699\n"
     ]
    }
   ],
   "source": [
    "#1 standardised\n",
    "import numpy as np\n",
    "from sklearn.datasets import make_classification\n",
    "from sklearn.model_selection import RandomizedSearchCV, train_test_split\n",
    "from sklearn.svm import SVC\n",
    "from scipy.stats import uniform, randint\n",
    "\n",
    "X = epl_s\n",
    "y = epl['result']\n",
    "\n",
    "# Splitting the data into training and testing sets\n",
    "X_train, X_test, y_train, y_test = train_test_split(X, y, test_size=0.3, random_state=42)\n",
    "\n",
    "# Defining the parameter distributions to sample from\n",
    "\n",
    "param_dist = {'C': uniform(loc=0, scale=10)}  # Regularization parameter\n",
    "\n",
    "\n",
    "# Initialising the SVM classifier\n",
    "svm_classifier = SVC(kernel = \"linear\")\n",
    "\n",
    "# Initialising RandomizedSearchCV with SVM classifier and parameter distributions\n",
    "random_search = RandomizedSearchCV(estimator=svm_classifier, param_distributions=param_dist, n_iter=100, cv=5, random_state=42)\n",
    "\n",
    "# Performing the randomized search\n",
    "random_search.fit(X_train, y_train)\n",
    "\n",
    "# Getting the best hyperparameters\n",
    "best_params = random_search.best_params_\n",
    "print(\"Best Hyperparameters:\", best_params)\n",
    "\n",
    "# Getting the best model\n",
    "best_model = random_search.best_estimator_\n",
    "\n",
    "# Results\n",
    "cv_results_std = cross_val_score(best_model, X_train, y_train, cv=10, scoring='accuracy')\n",
    "print(\"Cross-Validation Results:\")\n",
    "print(cv_results_std)\n",
    "print(\"Mean Accuracy:\", cv_results_std.mean())\n"
   ]
  },
  {
   "cell_type": "code",
   "execution_count": 19,
   "id": "01c2d32a",
   "metadata": {},
   "outputs": [
    {
     "name": "stdout",
     "output_type": "stream",
     "text": [
      "Best Hyperparameters: {'C': 4.722149251619493}\n",
      "Cross-Validation Results:\n",
      "[0.61956522 0.66847826 0.60869565 0.65217391 0.65217391 0.60326087\n",
      " 0.60655738 0.6557377  0.62295082 0.65027322]\n",
      "Mean Accuracy: 0.6339866951770017\n"
     ]
    }
   ],
   "source": [
    "# normalised\n",
    "import numpy as np\n",
    "from sklearn.datasets import make_classification\n",
    "from sklearn.model_selection import RandomizedSearchCV, train_test_split\n",
    "from sklearn.svm import SVC\n",
    "from scipy.stats import uniform, randint\n",
    "\n",
    "X = epl_normalised[f1]\n",
    "y = epl['result']\n",
    "\n",
    "# Splitting the data into training and testing sets\n",
    "X_train, X_test, y_train, y_test = train_test_split(X, y, test_size=0.3, random_state=42)\n",
    "\n",
    "# Defining the parameter distributions to sample from\n",
    "param_dist = {\n",
    "    'C': uniform(loc=0, scale=10),  # Regularization parameter\n",
    "}\n",
    "\n",
    "# Initialising the SVM classifier\n",
    "svm_classifier = SVC(kernel = \"linear\")\n",
    "\n",
    "# Initialising RandomizedSearchCV with SVM classifier and parameter distributions\n",
    "random_search = RandomizedSearchCV(estimator=svm_classifier, param_distributions=param_dist, n_iter=100, cv=5, random_state=42)\n",
    "\n",
    "# Performing the randomized search\n",
    "random_search.fit(X_train, y_train)\n",
    "\n",
    "# Getting the best hyperparameters\n",
    "best_params = random_search.best_params_\n",
    "print(\"Best Hyperparameters:\", best_params)\n",
    "\n",
    "# Getting the best model\n",
    "best_model = random_search.best_estimator_\n",
    "\n",
    "# Results\n",
    "cv_results_norm = cross_val_score(best_model, X_train, y_train, cv=10, scoring='accuracy')\n",
    "print(\"Cross-Validation Results:\")\n",
    "print(cv_results_norm)\n",
    "print(\"Mean Accuracy:\", cv_results_norm.mean())"
   ]
  },
  {
   "cell_type": "code",
   "execution_count": 20,
   "id": "1ed95cef",
   "metadata": {},
   "outputs": [
    {
     "name": "stdout",
     "output_type": "stream",
     "text": [
      "Best Hyperparameters: {'C': 0.20584494295802447}\n",
      "Cross-Validation Results:\n",
      "[0.58482143 0.56696429 0.57589286 0.625      0.59821429 0.55803571\n",
      " 0.5625     0.65178571 0.60538117 0.61434978]\n",
      "Mean Accuracy: 0.5942945227418323\n"
     ]
    }
   ],
   "source": [
    "# Balanced w-SMOTE (standardised)\n",
    "import numpy as np\n",
    "from sklearn.datasets import make_classification\n",
    "from sklearn.model_selection import RandomizedSearchCV, train_test_split\n",
    "from sklearn.svm import SVC\n",
    "from scipy.stats import uniform, randint\n",
    "\n",
    "X = epl_s\n",
    "y = epl['result']\n",
    "\n",
    "# Splitting the data into training and testing sets\n",
    "X_train, X_test, y_train, y_test = train_test_split(X, y, test_size=0.3, random_state=42)\n",
    "smote = SMOTE(random_state=42)\n",
    "X_train_re,y_train_re = smote.fit_resample(X_train,y_train)\n",
    "\n",
    "# Defining the parameter distributions to sample from\n",
    "param_dist = {\n",
    "    'C': uniform(loc=0, scale=10),  # Regularization parameter\n",
    "}\n",
    "\n",
    "# Initialising the SVM classifier\n",
    "svm_classifier = SVC(kernel = \"linear\")\n",
    "\n",
    "# Initialising RandomizedSearchCV with SVM classifier and parameter distributions\n",
    "random_search = RandomizedSearchCV(estimator=svm_classifier, param_distributions=param_dist, n_iter=100, cv=5, random_state=42)\n",
    "\n",
    "# Performing the randomized search\n",
    "random_search.fit(X_train_re, y_train_re)\n",
    "\n",
    "# Getting the best hyperparameters\n",
    "best_params = random_search.best_params_\n",
    "print(\"Best Hyperparameters:\", best_params)\n",
    "\n",
    "# Getting the best model\n",
    "best_model = random_search.best_estimator_\n",
    "\n",
    "# Results\n",
    "cv_results_std_smote = cross_val_score(best_model, X_train_re, y_train_re, cv=10, scoring='accuracy')\n",
    "print(\"Cross-Validation Results:\")\n",
    "print(cv_results_std_smote)\n",
    "print(\"Mean Accuracy:\", cv_results_std_smote.mean())"
   ]
  },
  {
   "cell_type": "code",
   "execution_count": 28,
   "id": "f71ff758",
   "metadata": {},
   "outputs": [
    {
     "name": "stdout",
     "output_type": "stream",
     "text": [
      "Best Hyperparameters: {'C': 7.13244787222995}\n",
      "Cross-Validation Results:\n",
      "[0.58035714 0.56696429 0.55803571 0.59375    0.59375    0.55357143\n",
      " 0.59375    0.66964286 0.58744395 0.64573991]\n",
      "Mean Accuracy: 0.594300528507367\n"
     ]
    }
   ],
   "source": [
    "# balanced w-SMOTE (normalised)\n",
    "import numpy as np\n",
    "from sklearn.datasets import make_classification\n",
    "from sklearn.model_selection import RandomizedSearchCV, train_test_split\n",
    "from sklearn.svm import SVC\n",
    "from scipy.stats import uniform, randint\n",
    "\n",
    "X = epl_normalised[f1]\n",
    "y = epl['result']\n",
    "\n",
    "# Splitting the data into training and testing sets\n",
    "X_train, X_test, y_train, y_test = train_test_split(X, y, test_size=0.3, random_state=42)\n",
    "smote = SMOTE(random_state=42)\n",
    "X_train_re,y_train_re = smote.fit_resample(X_train,y_train)\n",
    "\n",
    "# Defining the parameter distributions to sample from\n",
    "param_dist = {\n",
    "    'C': uniform(loc=0, scale=10),  # Regularization parameter\n",
    "}\n",
    "\n",
    "# Initialising the SVM classifier\n",
    "svm_classifier = SVC(kernel = \"linear\")\n",
    "\n",
    "# Initialising RandomizedSearchCV with SVM classifier and parameter distributions\n",
    "random_search = RandomizedSearchCV(estimator=svm_classifier, param_distributions=param_dist, n_iter=100, cv=5, random_state=42)\n",
    "\n",
    "# Performing the randomized search\n",
    "random_search.fit(X_train_re, y_train_re)\n",
    "\n",
    "# Getting the best hyperparameters\n",
    "best_params = random_search.best_params_\n",
    "print(\"Best Hyperparameters:\", best_params)\n",
    "\n",
    "# Getting the best model\n",
    "best_model = random_search.best_estimator_\n",
    "\n",
    "# Results\n",
    "cv_results_norm_smote = cross_val_score(best_model, X_train_re, y_train_re, cv=10, scoring='accuracy')\n",
    "print(\"Cross-Validation Results:\")\n",
    "print(cv_results_norm_smote)\n",
    "print(\"Mean Accuracy:\", cv_results_norm_smote.mean())"
   ]
  },
  {
   "cell_type": "code",
   "execution_count": 22,
   "id": "54ee14f9",
   "metadata": {},
   "outputs": [
    {
     "name": "stdout",
     "output_type": "stream",
     "text": [
      "Accuracy of unbalanced dataset: \n",
      "Standardised 0.6334402470895699\n",
      "Normalised 0.6339866951770017\n",
      "\n",
      "Accuracy of balanced dataset with SMOTE: \n",
      "Standardised 0.5942945227418323\n",
      "Normalised 0.594300528507367\n"
     ]
    }
   ],
   "source": [
    "# Returning the results of the Cross-Validation\n",
    "print(\"Accuracy of unbalanced dataset: \")\n",
    "print(\"Standardised\", cv_results_std.mean())\n",
    "print(\"Normalised\",cv_results_norm.mean())\n",
    "print(\"\\nAccuracy of balanced dataset with SMOTE: \")\n",
    "print(\"Standardised\" , cv_results_std_smote.mean())\n",
    "print(\"Normalised\",cv_results_norm_smote.mean())\n"
   ]
  },
  {
   "cell_type": "code",
   "execution_count": 26,
   "id": "fa182d0b",
   "metadata": {},
   "outputs": [
    {
     "name": "stdout",
     "output_type": "stream",
     "text": [
      "Best Hyperparameters: {'C': 0.9767211400638387}\n",
      "Test Accuracy: 0.6429479034307497\n",
      "              precision    recall  f1-score   support\n",
      "\n",
      "           D       0.43      0.17      0.25       184\n",
      "           L       0.68      0.77      0.72       287\n",
      "           W       0.65      0.80      0.72       316\n",
      "\n",
      "    accuracy                           0.64       787\n",
      "   macro avg       0.59      0.58      0.56       787\n",
      "weighted avg       0.61      0.64      0.61       787\n",
      "\n",
      "[[ 32  66  86]\n",
      " [ 18 220  49]\n",
      " [ 24  38 254]]\n"
     ]
    }
   ],
   "source": [
    "#BEST MODEL\n",
    "import numpy as np\n",
    "from sklearn.datasets import make_classification\n",
    "from sklearn.model_selection import RandomizedSearchCV, train_test_split\n",
    "from sklearn.svm import SVC\n",
    "from scipy.stats import uniform, randint\n",
    "\n",
    "X = epl_s\n",
    "y = epl['result']\n",
    "\n",
    "# Split the data into training and testing sets\n",
    "X_train, X_test, y_train, y_test = train_test_split(X, y, test_size=0.3, random_state=42)\n",
    "\n",
    "# Define the parameter distributions to sample from\n",
    "\n",
    "param_dist = {'C': uniform(loc=0, scale=10)}  # Regularization parameter\n",
    "\n",
    "\n",
    "# Initialize the SVM classifier\n",
    "svm_classifier = SVC(kernel = \"linear\")\n",
    "\n",
    "# Initialize RandomizedSearchCV with SVM classifier and parameter distributions\n",
    "random_search = RandomizedSearchCV(estimator=svm_classifier, param_distributions=param_dist, n_iter=100, cv=5, random_state=42)\n",
    "\n",
    "# Perform the randomized search\n",
    "random_search.fit(X_train, y_train)\n",
    "\n",
    "# Get the best hyperparameters\n",
    "best_params = random_search.best_params_\n",
    "print(\"Best Hyperparameters:\", best_params)\n",
    "\n",
    "# Get the best model\n",
    "best_model = random_search.best_estimator_\n",
    "\n",
    "best_model.fit(X_train,y_train)\n",
    "pred = best_model.predict(X_test)\n",
    "\n",
    "# Calculate accuracy on the test set\n",
    "accuracy = accuracy_score(y_test, pred)\n",
    "print(\"Test Accuracy:\",accuracy)\n",
    "report = classification_report(y_test,pred)\n",
    "print(report)\n",
    "conf_matrix = confusion_matrix(y_test,pred)\n",
    "print(conf_matrix)"
   ]
  },
  {
   "cell_type": "code",
   "execution_count": 24,
   "id": "83e437da",
   "metadata": {},
   "outputs": [
    {
     "name": "stdout",
     "output_type": "stream",
     "text": [
      "['D' 'L' 'W']\n"
     ]
    },
    {
     "data": {
      "image/png": "[encoded data removed]",
      "text/plain": [
       "<Figure size 432x288 with 2 Axes>"
      ]
     },
     "metadata": {
      "needs_background": "light"
     },
     "output_type": "display_data"
    },
    {
     "name": "stdout",
     "output_type": "stream",
     "text": [
      "0.5881336921039862 : is the precision score\n",
      "0.581420344826925 : is the recall score\n",
      "0.5629201080957638 : is the f1 score\n",
      "Highest accuracy score of Decision Tree: \n",
      "64.29\n"
     ]
    }
   ],
   "source": [
    "import numpy as np\n",
    "import matplotlib.pyplot as plt\n",
    "from sklearn.metrics import confusion_matrix, ConfusionMatrixDisplay\n",
    "unique_labels = np.unique(y)\n",
    "print(unique_labels)\n",
    "cm = confusion_matrix(y_test,pred)\n",
    "classes = ['D', 'L', 'W']\n",
    "\n",
    "\n",
    "# Plotting the confusion matrix with labels\n",
    "disp = ConfusionMatrixDisplay(confusion_matrix=cm, display_labels=classes)\n",
    "disp.plot(cmap=plt.cm.Blues)\n",
    "plt.title('Confusion Matrix')\n",
    "plt.xticks(rotation=45) \n",
    "plt.show()\n",
    "\n",
    "from sklearn.metrics import f1_score\n",
    "from sklearn.metrics import precision_score\n",
    "from sklearn.metrics import recall_score\n",
    "print(precision_score(y_test, pred, average='macro'), \": is the precision score\")\n",
    "print(recall_score(y_test, pred, average='macro'), \": is the recall score\")\n",
    "print(f1_score(y_test, pred, average='macro'), \": is the f1 score\")\n",
    "\n",
    "best = accuracy * 100\n",
    "print(\"Highest accuracy score of Decision Tree: \")\n",
    "print(round(best,2))\n"
   ]
  },
  {
   "cell_type": "code",
   "execution_count": 27,
   "id": "d215dba2",
   "metadata": {},
   "outputs": [
    {
     "data": {
      "image/png": "[encoded data removed]",
      "text/plain": [
       "<Figure size 432x216 with 2 Axes>"
      ]
     },
     "metadata": {
      "needs_background": "light"
     },
     "output_type": "display_data"
    },
    {
     "name": "stdout",
     "output_type": "stream",
     "text": [
      "0.5881336921039862 : is the precision score\n",
      "0.581420344826925 : is the recall score\n",
      "0.5629201080957638 : is the f1 score\n",
      "Highest accuracy score for Naives Bay: \n",
      "64.29\n"
     ]
    }
   ],
   "source": [
    "\n",
    "import seaborn as sns\n",
    "class_names = [\"D\", \"L\",\"W\"]\n",
    "report = classification_report(y_test, pred, target_names=class_names, output_dict=True)\n",
    "\n",
    "# Setting up plot size and style\n",
    "plt.figure(figsize=(6, 3))\n",
    "\n",
    "# Plotting confusion matrix heatmap\n",
    "plt.subplot(1, 2, 1)\n",
    "sns.heatmap(conf_matrix, annot=True,cbar=False, fmt='d', cmap='Blues', xticklabels=class_names, yticklabels=class_names)\n",
    "plt.title('Confusion Matrix')\n",
    "plt.xlabel('Predicted')\n",
    "plt.ylabel('Actual')\n",
    "\n",
    "# Plotting classification report heatmap\n",
    "plt.subplot(1, 2, 2)\n",
    "sns.heatmap(np.array([[report[label][metric] for label in class_names] for metric in report[class_names[0]]]),\n",
    "            annot=True, cbar=False,fmt=\".2f\", cmap=\"YlGnBu\", xticklabels=class_names, yticklabels=report[class_names[0]].keys())\n",
    "\n",
    "plt.xticks(rotation=0)\n",
    "plt.yticks(rotation=0)\n",
    "#plt.ylabel(\"Metrics\")\n",
    "plt.xlabel(\"Class\")\n",
    "plt.title(\"Classification Metrics\")\n",
    "\n",
    "# Adjusting layout and show the plot\n",
    "plt.tight_layout()\n",
    "plt.show()\n",
    "\n",
    "print(precision_score(y_test, pred, average='macro'), \": is the precision score\")\n",
    "print(recall_score(y_test, pred, average='macro'), \": is the recall score\")\n",
    "print(f1_score(y_test, pred, average='macro'), \": is the f1 score\")\n",
    "\n",
    "best = accuracy * 100\n",
    "print(\"Highest accuracy score for Naives Bay: \")\n",
    "print(round(best,2))\n"
   ]
  }
 ],
 "metadata": {
  "kernelspec": {
   "display_name": "Python 3",
   "language": "python",
   "name": "python3"
  },
  "language_info": {
   "codemirror_mode": {
    "name": "ipython",
    "version": 3
   },
   "file_extension": ".py",
   "mimetype": "text/x-python",
   "name": "python",
   "nbconvert_exporter": "python",
   "pygments_lexer": "ipython3",
   "version": "3.8.8"
  }
 },
 "nbformat": 4,
 "nbformat_minor": 5
}
